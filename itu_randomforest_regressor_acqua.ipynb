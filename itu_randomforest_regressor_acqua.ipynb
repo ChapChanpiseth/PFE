{
 "cells": [
  {
   "cell_type": "markdown",
   "metadata": {
    "colab_type": "text",
    "id": "2JT8_-IInr2D"
   },
   "source": [
    "### Random Search Cross Validation in Scikit-Learn"
   ]
  },
  {
   "cell_type": "code",
   "execution_count": 20,
   "metadata": {
    "colab": {
     "base_uri": "https://localhost:8080/",
     "height": 34
    },
    "colab_type": "code",
    "id": "S-IC2HIlnt1y",
    "outputId": "cb5ead1e-66d7-4120-ead5-bf92a0bbc78c"
   },
   "outputs": [],
   "source": [
    "import pandas as pd\n",
    "import numpy as np\n",
    "\n",
    "#data = pd.read_csv('Dataset/20000_outband_QoS_ITU-QoE.csv', nrows = 10)\n",
    "data = pd.read_csv('Dataset/20000_outband_QoS_ITU-QoE.csv')\n",
    "#data = pd.read_csv('outband_QoS_ITU-QoE.csv')\n",
    "\n",
    "X = data[['outbandQoS_DL_TP (kbps)', 'outbandQoS_UL_TP (kbps)', 'outbandQoS_RTT (ms)', 'outbandQoS_LOSS (ratio)']]\n",
    "y = data[['QoE_ITU_JT_046_VP9_1280x780']]"
   ]
  },
  {
   "cell_type": "code",
   "execution_count": 21,
   "metadata": {
    "colab": {
     "base_uri": "https://localhost:8080/",
     "height": 238
    },
    "colab_type": "code",
    "id": "oscyWwL1qZgx",
    "outputId": "a8bab536-63ee-4ec4-94ae-58c1ecc3d4d7"
   },
   "outputs": [
    {
     "data": {
      "text/html": [
       "<div>\n",
       "<style scoped>\n",
       "    .dataframe tbody tr th:only-of-type {\n",
       "        vertical-align: middle;\n",
       "    }\n",
       "\n",
       "    .dataframe tbody tr th {\n",
       "        vertical-align: top;\n",
       "    }\n",
       "\n",
       "    .dataframe thead th {\n",
       "        text-align: right;\n",
       "    }\n",
       "</style>\n",
       "<table border=\"1\" class=\"dataframe\">\n",
       "  <thead>\n",
       "    <tr style=\"text-align: right;\">\n",
       "      <th></th>\n",
       "      <th>outbandQoS_DL_TP (kbps)</th>\n",
       "      <th>outbandQoS_UL_TP (kbps)</th>\n",
       "      <th>outbandQoS_RTT (ms)</th>\n",
       "      <th>outbandQoS_LOSS (ratio)</th>\n",
       "    </tr>\n",
       "  </thead>\n",
       "  <tbody>\n",
       "    <tr>\n",
       "      <th>3906</th>\n",
       "      <td>4599.458008</td>\n",
       "      <td>867.078674</td>\n",
       "      <td>14.489874</td>\n",
       "      <td>0.015907</td>\n",
       "    </tr>\n",
       "    <tr>\n",
       "      <th>18164</th>\n",
       "      <td>4744.419434</td>\n",
       "      <td>558.679443</td>\n",
       "      <td>27.363260</td>\n",
       "      <td>0.024002</td>\n",
       "    </tr>\n",
       "    <tr>\n",
       "      <th>3829</th>\n",
       "      <td>4705.260742</td>\n",
       "      <td>1084.927490</td>\n",
       "      <td>39.144135</td>\n",
       "      <td>0.016064</td>\n",
       "    </tr>\n",
       "    <tr>\n",
       "      <th>14589</th>\n",
       "      <td>9713.149414</td>\n",
       "      <td>1555.960815</td>\n",
       "      <td>48.297508</td>\n",
       "      <td>0.008926</td>\n",
       "    </tr>\n",
       "    <tr>\n",
       "      <th>391</th>\n",
       "      <td>3951.575195</td>\n",
       "      <td>1042.235596</td>\n",
       "      <td>36.710537</td>\n",
       "      <td>0.024447</td>\n",
       "    </tr>\n",
       "  </tbody>\n",
       "</table>\n",
       "</div>"
      ],
      "text/plain": [
       "       outbandQoS_DL_TP (kbps)  outbandQoS_UL_TP (kbps)  outbandQoS_RTT (ms)  \\\n",
       "3906               4599.458008               867.078674            14.489874   \n",
       "18164              4744.419434               558.679443            27.363260   \n",
       "3829               4705.260742              1084.927490            39.144135   \n",
       "14589              9713.149414              1555.960815            48.297508   \n",
       "391                3951.575195              1042.235596            36.710537   \n",
       "\n",
       "       outbandQoS_LOSS (ratio)  \n",
       "3906                  0.015907  \n",
       "18164                 0.024002  \n",
       "3829                  0.016064  \n",
       "14589                 0.008926  \n",
       "391                   0.024447  "
      ]
     },
     "metadata": {},
     "output_type": "display_data"
    },
    {
     "data": {
      "text/plain": [
       "(18000, 1)"
      ]
     },
     "metadata": {},
     "output_type": "display_data"
    },
    {
     "data": {
      "text/plain": [
       "(2000, 1)"
      ]
     },
     "metadata": {},
     "output_type": "display_data"
    }
   ],
   "source": [
    "from sklearn.model_selection import train_test_split\n",
    "\n",
    "# Setting random seed\n",
    "seed = 100\n",
    "#X_train, X_test, y_train, y_test = train_test_split(X, y, test_size = 0.34, random_state = seed )\n",
    "X_train, X_test, y_train, y_test = train_test_split(X, y, test_size = 0.10, random_state = seed)\n",
    "\n",
    "display(X_train.head(5))\n",
    "display(y_train.shape)\n",
    "display(y_test.shape)"
   ]
  },
  {
   "cell_type": "code",
   "execution_count": 23,
   "metadata": {
    "colab": {
     "base_uri": "https://localhost:8080/",
     "height": 207
    },
    "colab_type": "code",
    "id": "3kawjmD21cdJ",
    "outputId": "6d2e8078-6cac-4b8a-86de-b74bfe5836d3"
   },
   "outputs": [
    {
     "name": "stdout",
     "output_type": "stream",
     "text": [
      "Model Performance\n",
      "Average Error: 0.3438 degrees.\n",
      "Accuracy = 89.74%.\n",
      "MSE = 0.2234, RMSE = 0.4726\n",
      "RandomForestRegressor(bootstrap=True, criterion='mse', max_depth=10,\n",
      "                      max_features=2, max_leaf_nodes=None,\n",
      "                      min_impurity_decrease=0.0, min_impurity_split=None,\n",
      "                      min_samples_leaf=2, min_samples_split=5,\n",
      "                      min_weight_fraction_leaf=0.0, n_estimators=1000,\n",
      "                      n_jobs=None, oob_score=False, random_state=100,\n",
      "                      verbose=False, warm_start=False)\n",
      "Model Performance\n",
      "Average Error: 0.3246 degrees.\n",
      "Accuracy = 90.24%.\n",
      "MSE = 0.1983, RMSE = 0.4453\n",
      "Improvement of 0.56%.\n"
     ]
    }
   ],
   "source": [
    "from sklearn.ensemble import RandomForestRegressor\n",
    "\n",
    "def evaluate(model, X_test, y_test):\n",
    "    predictions = model.predict(X_test)\n",
    "    y_test = np.ravel(y_test)\n",
    "    residules = predictions - y_test\n",
    "    errors = abs(residules)\n",
    "    mape = 100 * np.mean(errors / y_test)\n",
    "    accuracy = 100 - mape\n",
    "    print('Model Performance')\n",
    "    print('Average Error: {:0.4f} degrees.'.format(np.mean(errors)))\n",
    "    print('Accuracy = {:0.2f}%.'.format(accuracy))\n",
    "    \n",
    "    MSE = (1/(len(y_test)))*np.sum((residules)**2)\n",
    "    RMSE_1234= np.sqrt(MSE)\n",
    "    print('MSE = {:.4f}, RMSE = {:.4f}'.format(MSE,RMSE_1234))\n",
    "    #print('R^2 = {}'.format(linreg_1234.score(X, y)))\n",
    "\n",
    "    return accuracy\n",
    "\n",
    "# Convert to 1d array\n",
    "y_test = np.ravel(y_test)\n",
    "y_train = np.ravel(y_train)\n",
    "\n",
    "# Parameters\n",
    "best_params = {'bootstrap': True,\n",
    " 'max_depth': 10,\n",
    " 'max_features': 2,\n",
    " 'min_samples_leaf': 2,\n",
    " 'min_samples_split': 5,\n",
    " 'n_estimators': 1000}\n",
    "\n",
    "base_model = RandomForestRegressor(n_estimators = 10, random_state = 100)\n",
    "base_model.fit(X_train, y_train)\n",
    "base_accuracy = evaluate(base_model, X_test, y_test)\n",
    "\n",
    "rfr = RandomForestRegressor(max_depth=best_params[\"max_depth\"], max_features=best_params[\"max_features\"], n_estimators=best_params[\"n_estimators\"], \\\n",
    "                            min_samples_leaf=best_params[\"min_samples_leaf\"], min_samples_split=best_params[\"min_samples_split\"], random_state=100, verbose=False)\n",
    "print(rfr)\n",
    "\n",
    "rfr_model = rfr.fit(X_train, y_train)\n",
    "random_grid_accuracy = evaluate(rfr_model, X_test, y_test)\n",
    "\n",
    "print('Improvement of {:0.2f}%.'.format( 100 * (random_grid_accuracy - base_accuracy) / base_accuracy))"
   ]
  },
  {
   "cell_type": "code",
   "execution_count": 24,
   "metadata": {},
   "outputs": [],
   "source": [
    "import os\n",
    "import pickle\n",
    "\n",
    "def save_model(file, model):\n",
    "    \"\"\"\n",
    "    The pickle module implements binary protocols\n",
    "    for serializing and de-serializing a Python object structure.\n",
    "    \"\"\"\n",
    "    path_to_pickle = os.path.join(os.getcwd(), file)\n",
    "    try:\n",
    "        #FileHelper.create_folder(FileHelper.get_folder_path(path_to_pickle))\n",
    "        with open(path_to_pickle, 'wb') as handle:\n",
    "            pickle.dump(model, handle, protocol=pickle.HIGHEST_PROTOCOL)\n",
    "    except pickle.PickleError as error:\n",
    "        raise Exception(error)\n",
    "    else:\n",
    "        return True\n",
    "\n",
    "def load_model(file):\n",
    "    \"\"\"\n",
    "    Read .pickle file\n",
    "    \"\"\"\n",
    "    path_to_pickle = os.path.join(os.getcwd(), file)\n",
    "    try:\n",
    "        with open(path_to_pickle, 'rb') as handle:\n",
    "            model = pickle.load(handle)\n",
    "    except pickle.UnpicklingError as error:\n",
    "        raise Exception(error)\n",
    "    else:\n",
    "        return model"
   ]
  },
  {
   "cell_type": "markdown",
   "metadata": {},
   "source": [
    "### Save Model to Pickle"
   ]
  },
  {
   "cell_type": "code",
   "execution_count": 25,
   "metadata": {},
   "outputs": [
    {
     "data": {
      "text/plain": [
       "True"
      ]
     },
     "execution_count": 25,
     "metadata": {},
     "output_type": "execute_result"
    }
   ],
   "source": [
    "file_name = 'Dataset/20000_rfr_model.pickle'\n",
    "save_model(file_name, rfr_model)"
   ]
  },
  {
   "cell_type": "markdown",
   "metadata": {},
   "source": [
    "### Load Model and Train"
   ]
  },
  {
   "cell_type": "code",
   "execution_count": 26,
   "metadata": {},
   "outputs": [
    {
     "name": "stdout",
     "output_type": "stream",
     "text": [
      "Model Performance\n",
      "Average Error: 0.3246 degrees.\n",
      "Accuracy = 90.24%.\n",
      "MSE = 0.1983, RMSE = 0.4453\n",
      "Improvement of 0.56%.\n"
     ]
    }
   ],
   "source": [
    "model = load_model(file_name)\n",
    "random_grid_accuracy = evaluate(rfr_model, X_test, y_test)\n",
    "\n",
    "print('Improvement of {:0.2f}%.'.format( 100 * (random_grid_accuracy - base_accuracy) / base_accuracy))"
   ]
  },
  {
   "cell_type": "code",
   "execution_count": null,
   "metadata": {},
   "outputs": [],
   "source": []
  }
 ],
 "metadata": {
  "colab": {
   "collapsed_sections": [],
   "name": "itu_rd_reg_gridsearch.ipynb",
   "provenance": []
  },
  "kernelspec": {
   "display_name": "Python 3",
   "language": "python",
   "name": "python3"
  },
  "language_info": {
   "codemirror_mode": {
    "name": "ipython",
    "version": 3
   },
   "file_extension": ".py",
   "mimetype": "text/x-python",
   "name": "python",
   "nbconvert_exporter": "python",
   "pygments_lexer": "ipython3",
   "version": "3.7.4"
  }
 },
 "nbformat": 4,
 "nbformat_minor": 4
}
