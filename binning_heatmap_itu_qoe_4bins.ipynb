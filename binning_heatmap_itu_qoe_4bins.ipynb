{
 "cells": [
  {
   "cell_type": "markdown",
   "metadata": {
    "colab_type": "text",
    "id": "2JT8_-IInr2D"
   },
   "source": [
    "### Random Search Cross Validation in Scikit-Learn"
   ]
  },
  {
   "cell_type": "code",
   "execution_count": 58,
   "metadata": {
    "colab": {
     "base_uri": "https://localhost:8080/",
     "height": 34
    },
    "colab_type": "code",
    "id": "S-IC2HIlnt1y",
    "outputId": "cb5ead1e-66d7-4120-ead5-bf92a0bbc78c",
    "scrolled": true
   },
   "outputs": [
    {
     "data": {
      "text/plain": [
       "(2090, 4)"
      ]
     },
     "metadata": {},
     "output_type": "display_data"
    },
    {
     "data": {
      "text/html": [
       "<div>\n",
       "<style scoped>\n",
       "    .dataframe tbody tr th:only-of-type {\n",
       "        vertical-align: middle;\n",
       "    }\n",
       "\n",
       "    .dataframe tbody tr th {\n",
       "        vertical-align: top;\n",
       "    }\n",
       "\n",
       "    .dataframe thead th {\n",
       "        text-align: right;\n",
       "    }\n",
       "</style>\n",
       "<table border=\"1\" class=\"dataframe\">\n",
       "  <thead>\n",
       "    <tr style=\"text-align: right;\">\n",
       "      <th></th>\n",
       "      <th>Unnamed: 0</th>\n",
       "      <th>FEEDBACK_VALUE</th>\n",
       "      <th>YOUTUBE_AUTO_MOS</th>\n",
       "      <th>QoE_itu</th>\n",
       "    </tr>\n",
       "  </thead>\n",
       "  <tbody>\n",
       "    <tr>\n",
       "      <th>0</th>\n",
       "      <td>0</td>\n",
       "      <td>1</td>\n",
       "      <td>5</td>\n",
       "      <td>3.119406</td>\n",
       "    </tr>\n",
       "    <tr>\n",
       "      <th>1</th>\n",
       "      <td>1</td>\n",
       "      <td>3</td>\n",
       "      <td>5</td>\n",
       "      <td>4.282069</td>\n",
       "    </tr>\n",
       "    <tr>\n",
       "      <th>2</th>\n",
       "      <td>2</td>\n",
       "      <td>2</td>\n",
       "      <td>5</td>\n",
       "      <td>4.278156</td>\n",
       "    </tr>\n",
       "    <tr>\n",
       "      <th>3</th>\n",
       "      <td>3</td>\n",
       "      <td>3</td>\n",
       "      <td>5</td>\n",
       "      <td>4.278085</td>\n",
       "    </tr>\n",
       "    <tr>\n",
       "      <th>4</th>\n",
       "      <td>4</td>\n",
       "      <td>2</td>\n",
       "      <td>5</td>\n",
       "      <td>4.275066</td>\n",
       "    </tr>\n",
       "  </tbody>\n",
       "</table>\n",
       "</div>"
      ],
      "text/plain": [
       "   Unnamed: 0  FEEDBACK_VALUE  YOUTUBE_AUTO_MOS   QoE_itu\n",
       "0           0               1                 5  3.119406\n",
       "1           1               3                 5  4.282069\n",
       "2           2               2                 5  4.278156\n",
       "3           3               3                 5  4.278085\n",
       "4           4               2                 5  4.275066"
      ]
     },
     "metadata": {},
     "output_type": "display_data"
    }
   ],
   "source": [
    "import pandas as pd\n",
    "import numpy as np\n",
    "\n",
    "import copy\n",
    "\n",
    "\n",
    "data = pd.read_csv('Dataset/itu_Estimted_QoE.csv')\n",
    "display(data.shape)\n",
    "\n",
    "display(data.head(5))"
   ]
  },
  {
   "cell_type": "code",
   "execution_count": 71,
   "metadata": {},
   "outputs": [
    {
     "data": {
      "text/plain": [
       "array([[2.],\n",
       "       [3.],\n",
       "       [3.],\n",
       "       ...,\n",
       "       [1.],\n",
       "       [2.],\n",
       "       [2.]])"
      ]
     },
     "metadata": {},
     "output_type": "display_data"
    }
   ],
   "source": [
    "from sklearn.preprocessing import KBinsDiscretizer\n",
    "\n",
    "X = data['QoE_itu'].values.reshape(-1, 1)\n",
    "#est = KBinsDiscretizer(n_bins=4, encode='ordinal', strategy='quantile')\n",
    "est = KBinsDiscretizer(n_bins=4, encode='ordinal', strategy='quantile')\n",
    "est = est.fit(X)\n",
    "Xt = est.transform(X)\n",
    "\n",
    "display(Xt)"
   ]
  },
  {
   "cell_type": "code",
   "execution_count": 72,
   "metadata": {
    "scrolled": true
   },
   "outputs": [
    {
     "data": {
      "text/html": [
       "<div>\n",
       "<style scoped>\n",
       "    .dataframe tbody tr th:only-of-type {\n",
       "        vertical-align: middle;\n",
       "    }\n",
       "\n",
       "    .dataframe tbody tr th {\n",
       "        vertical-align: top;\n",
       "    }\n",
       "\n",
       "    .dataframe thead th {\n",
       "        text-align: right;\n",
       "    }\n",
       "</style>\n",
       "<table border=\"1\" class=\"dataframe\">\n",
       "  <thead>\n",
       "    <tr style=\"text-align: right;\">\n",
       "      <th></th>\n",
       "      <th>Unnamed: 0</th>\n",
       "      <th>FEEDBACK_VALUE</th>\n",
       "      <th>YOUTUBE_AUTO_MOS</th>\n",
       "      <th>QoE_itu</th>\n",
       "      <th>itu_QoE_Class</th>\n",
       "    </tr>\n",
       "  </thead>\n",
       "  <tbody>\n",
       "    <tr>\n",
       "      <th>0</th>\n",
       "      <td>0</td>\n",
       "      <td>1</td>\n",
       "      <td>5</td>\n",
       "      <td>3.119406</td>\n",
       "      <td>3.0</td>\n",
       "    </tr>\n",
       "    <tr>\n",
       "      <th>1</th>\n",
       "      <td>1</td>\n",
       "      <td>3</td>\n",
       "      <td>5</td>\n",
       "      <td>4.282069</td>\n",
       "      <td>4.0</td>\n",
       "    </tr>\n",
       "    <tr>\n",
       "      <th>2</th>\n",
       "      <td>2</td>\n",
       "      <td>2</td>\n",
       "      <td>5</td>\n",
       "      <td>4.278156</td>\n",
       "      <td>4.0</td>\n",
       "    </tr>\n",
       "    <tr>\n",
       "      <th>3</th>\n",
       "      <td>3</td>\n",
       "      <td>3</td>\n",
       "      <td>5</td>\n",
       "      <td>4.278085</td>\n",
       "      <td>4.0</td>\n",
       "    </tr>\n",
       "    <tr>\n",
       "      <th>4</th>\n",
       "      <td>4</td>\n",
       "      <td>2</td>\n",
       "      <td>5</td>\n",
       "      <td>4.275066</td>\n",
       "      <td>4.0</td>\n",
       "    </tr>\n",
       "  </tbody>\n",
       "</table>\n",
       "</div>"
      ],
      "text/plain": [
       "   Unnamed: 0  FEEDBACK_VALUE  YOUTUBE_AUTO_MOS   QoE_itu  itu_QoE_Class\n",
       "0           0               1                 5  3.119406            3.0\n",
       "1           1               3                 5  4.282069            4.0\n",
       "2           2               2                 5  4.278156            4.0\n",
       "3           3               3                 5  4.278085            4.0\n",
       "4           4               2                 5  4.275066            4.0"
      ]
     },
     "metadata": {},
     "output_type": "display_data"
    }
   ],
   "source": [
    "data['itu_QoE_Class'] = Xt + 1\n",
    "\n",
    "data['FEEDBACK_VALUE'] = data['FEEDBACK_VALUE'].replace(5, 4)\n",
    "display(data.head(5))\n",
    "#display(data.shape)"
   ]
  },
  {
   "cell_type": "code",
   "execution_count": 73,
   "metadata": {
    "scrolled": true
   },
   "outputs": [
    {
     "data": {
      "text/plain": [
       "1.0"
      ]
     },
     "metadata": {},
     "output_type": "display_data"
    },
    {
     "data": {
      "text/plain": [
       "array([0.51824818, 0.24817518, 0.14963504, 0.08394161])"
      ]
     },
     "metadata": {},
     "output_type": "display_data"
    },
    {
     "data": {
      "text/html": [
       "<div>\n",
       "<style scoped>\n",
       "    .dataframe tbody tr th:only-of-type {\n",
       "        vertical-align: middle;\n",
       "    }\n",
       "\n",
       "    .dataframe tbody tr th {\n",
       "        vertical-align: top;\n",
       "    }\n",
       "\n",
       "    .dataframe thead th {\n",
       "        text-align: right;\n",
       "    }\n",
       "</style>\n",
       "<table border=\"1\" class=\"dataframe\">\n",
       "  <thead>\n",
       "    <tr style=\"text-align: right;\">\n",
       "      <th></th>\n",
       "      <th>itu_QoE_Class</th>\n",
       "      <th>Unnamed: 0</th>\n",
       "      <th>FEEDBACK_VALUE</th>\n",
       "      <th>YOUTUBE_AUTO_MOS</th>\n",
       "      <th>QoE_itu</th>\n",
       "      <th>Frequency %</th>\n",
       "      <th>MoS_Feedback</th>\n",
       "    </tr>\n",
       "  </thead>\n",
       "  <tbody>\n",
       "    <tr>\n",
       "      <th>0</th>\n",
       "      <td>1.0</td>\n",
       "      <td>142</td>\n",
       "      <td>142</td>\n",
       "      <td>142</td>\n",
       "      <td>142</td>\n",
       "      <td>0.518248</td>\n",
       "      <td>1</td>\n",
       "    </tr>\n",
       "    <tr>\n",
       "      <th>1</th>\n",
       "      <td>2.0</td>\n",
       "      <td>68</td>\n",
       "      <td>68</td>\n",
       "      <td>68</td>\n",
       "      <td>68</td>\n",
       "      <td>0.248175</td>\n",
       "      <td>1</td>\n",
       "    </tr>\n",
       "    <tr>\n",
       "      <th>2</th>\n",
       "      <td>3.0</td>\n",
       "      <td>41</td>\n",
       "      <td>41</td>\n",
       "      <td>41</td>\n",
       "      <td>41</td>\n",
       "      <td>0.149635</td>\n",
       "      <td>1</td>\n",
       "    </tr>\n",
       "    <tr>\n",
       "      <th>3</th>\n",
       "      <td>4.0</td>\n",
       "      <td>23</td>\n",
       "      <td>23</td>\n",
       "      <td>23</td>\n",
       "      <td>23</td>\n",
       "      <td>0.083942</td>\n",
       "      <td>1</td>\n",
       "    </tr>\n",
       "  </tbody>\n",
       "</table>\n",
       "</div>"
      ],
      "text/plain": [
       "   itu_QoE_Class  Unnamed: 0  FEEDBACK_VALUE  YOUTUBE_AUTO_MOS  QoE_itu  \\\n",
       "0            1.0         142             142               142      142   \n",
       "1            2.0          68              68                68       68   \n",
       "2            3.0          41              41                41       41   \n",
       "3            4.0          23              23                23       23   \n",
       "\n",
       "   Frequency % MoS_Feedback  \n",
       "0     0.518248            1  \n",
       "1     0.248175            1  \n",
       "2     0.149635            1  \n",
       "3     0.083942            1  "
      ]
     },
     "metadata": {},
     "output_type": "display_data"
    },
    {
     "data": {
      "text/plain": [
       "161"
      ]
     },
     "metadata": {},
     "output_type": "display_data"
    },
    {
     "data": {
      "text/plain": [
       "1.0"
      ]
     },
     "metadata": {},
     "output_type": "display_data"
    },
    {
     "data": {
      "text/plain": [
       "1.0"
      ]
     },
     "metadata": {},
     "output_type": "display_data"
    },
    {
     "data": {
      "text/html": [
       "<div>\n",
       "<style scoped>\n",
       "    .dataframe tbody tr th:only-of-type {\n",
       "        vertical-align: middle;\n",
       "    }\n",
       "\n",
       "    .dataframe tbody tr th {\n",
       "        vertical-align: top;\n",
       "    }\n",
       "\n",
       "    .dataframe thead th {\n",
       "        text-align: right;\n",
       "    }\n",
       "</style>\n",
       "<table border=\"1\" class=\"dataframe\">\n",
       "  <thead>\n",
       "    <tr style=\"text-align: right;\">\n",
       "      <th></th>\n",
       "      <th>itu_QoE_Class</th>\n",
       "      <th>Unnamed: 0</th>\n",
       "      <th>FEEDBACK_VALUE</th>\n",
       "      <th>YOUTUBE_AUTO_MOS</th>\n",
       "      <th>QoE_itu</th>\n",
       "      <th>Frequency %</th>\n",
       "      <th>MoS_Feedback</th>\n",
       "    </tr>\n",
       "  </thead>\n",
       "  <tbody>\n",
       "    <tr>\n",
       "      <th>0</th>\n",
       "      <td>1.0</td>\n",
       "      <td>36</td>\n",
       "      <td>36</td>\n",
       "      <td>36</td>\n",
       "      <td>36</td>\n",
       "      <td>0.223602</td>\n",
       "      <td>2</td>\n",
       "    </tr>\n",
       "    <tr>\n",
       "      <th>1</th>\n",
       "      <td>2.0</td>\n",
       "      <td>75</td>\n",
       "      <td>75</td>\n",
       "      <td>75</td>\n",
       "      <td>75</td>\n",
       "      <td>0.465839</td>\n",
       "      <td>2</td>\n",
       "    </tr>\n",
       "    <tr>\n",
       "      <th>2</th>\n",
       "      <td>3.0</td>\n",
       "      <td>34</td>\n",
       "      <td>34</td>\n",
       "      <td>34</td>\n",
       "      <td>34</td>\n",
       "      <td>0.211180</td>\n",
       "      <td>2</td>\n",
       "    </tr>\n",
       "    <tr>\n",
       "      <th>3</th>\n",
       "      <td>4.0</td>\n",
       "      <td>16</td>\n",
       "      <td>16</td>\n",
       "      <td>16</td>\n",
       "      <td>16</td>\n",
       "      <td>0.099379</td>\n",
       "      <td>2</td>\n",
       "    </tr>\n",
       "  </tbody>\n",
       "</table>\n",
       "</div>"
      ],
      "text/plain": [
       "   itu_QoE_Class  Unnamed: 0  FEEDBACK_VALUE  YOUTUBE_AUTO_MOS  QoE_itu  \\\n",
       "0            1.0          36              36                36       36   \n",
       "1            2.0          75              75                75       75   \n",
       "2            3.0          34              34                34       34   \n",
       "3            4.0          16              16                16       16   \n",
       "\n",
       "   Frequency % MoS_Feedback  \n",
       "0     0.223602            2  \n",
       "1     0.465839            2  \n",
       "2     0.211180            2  \n",
       "3     0.099379            2  "
      ]
     },
     "metadata": {},
     "output_type": "display_data"
    },
    {
     "data": {
      "text/plain": [
       "228"
      ]
     },
     "metadata": {},
     "output_type": "display_data"
    },
    {
     "data": {
      "text/html": [
       "<div>\n",
       "<style scoped>\n",
       "    .dataframe tbody tr th:only-of-type {\n",
       "        vertical-align: middle;\n",
       "    }\n",
       "\n",
       "    .dataframe tbody tr th {\n",
       "        vertical-align: top;\n",
       "    }\n",
       "\n",
       "    .dataframe thead th {\n",
       "        text-align: right;\n",
       "    }\n",
       "</style>\n",
       "<table border=\"1\" class=\"dataframe\">\n",
       "  <thead>\n",
       "    <tr style=\"text-align: right;\">\n",
       "      <th></th>\n",
       "      <th>itu_QoE_Class</th>\n",
       "      <th>Unnamed: 0</th>\n",
       "      <th>FEEDBACK_VALUE</th>\n",
       "      <th>YOUTUBE_AUTO_MOS</th>\n",
       "      <th>QoE_itu</th>\n",
       "      <th>Frequency %</th>\n",
       "      <th>MoS_Feedback</th>\n",
       "    </tr>\n",
       "  </thead>\n",
       "  <tbody>\n",
       "    <tr>\n",
       "      <th>0</th>\n",
       "      <td>1.0</td>\n",
       "      <td>62</td>\n",
       "      <td>62</td>\n",
       "      <td>62</td>\n",
       "      <td>62</td>\n",
       "      <td>0.271930</td>\n",
       "      <td>3</td>\n",
       "    </tr>\n",
       "    <tr>\n",
       "      <th>1</th>\n",
       "      <td>2.0</td>\n",
       "      <td>60</td>\n",
       "      <td>60</td>\n",
       "      <td>60</td>\n",
       "      <td>60</td>\n",
       "      <td>0.263158</td>\n",
       "      <td>3</td>\n",
       "    </tr>\n",
       "    <tr>\n",
       "      <th>2</th>\n",
       "      <td>3.0</td>\n",
       "      <td>76</td>\n",
       "      <td>76</td>\n",
       "      <td>76</td>\n",
       "      <td>76</td>\n",
       "      <td>0.333333</td>\n",
       "      <td>3</td>\n",
       "    </tr>\n",
       "    <tr>\n",
       "      <th>3</th>\n",
       "      <td>4.0</td>\n",
       "      <td>30</td>\n",
       "      <td>30</td>\n",
       "      <td>30</td>\n",
       "      <td>30</td>\n",
       "      <td>0.131579</td>\n",
       "      <td>3</td>\n",
       "    </tr>\n",
       "  </tbody>\n",
       "</table>\n",
       "</div>"
      ],
      "text/plain": [
       "   itu_QoE_Class  Unnamed: 0  FEEDBACK_VALUE  YOUTUBE_AUTO_MOS  QoE_itu  \\\n",
       "0            1.0          62              62                62       62   \n",
       "1            2.0          60              60                60       60   \n",
       "2            3.0          76              76                76       76   \n",
       "3            4.0          30              30                30       30   \n",
       "\n",
       "   Frequency % MoS_Feedback  \n",
       "0     0.271930            3  \n",
       "1     0.263158            3  \n",
       "2     0.333333            3  \n",
       "3     0.131579            3  "
      ]
     },
     "metadata": {},
     "output_type": "display_data"
    },
    {
     "data": {
      "text/plain": [
       "1427"
      ]
     },
     "metadata": {},
     "output_type": "display_data"
    },
    {
     "data": {
      "text/html": [
       "<div>\n",
       "<style scoped>\n",
       "    .dataframe tbody tr th:only-of-type {\n",
       "        vertical-align: middle;\n",
       "    }\n",
       "\n",
       "    .dataframe tbody tr th {\n",
       "        vertical-align: top;\n",
       "    }\n",
       "\n",
       "    .dataframe thead th {\n",
       "        text-align: right;\n",
       "    }\n",
       "</style>\n",
       "<table border=\"1\" class=\"dataframe\">\n",
       "  <thead>\n",
       "    <tr style=\"text-align: right;\">\n",
       "      <th></th>\n",
       "      <th>itu_QoE_Class</th>\n",
       "      <th>Unnamed: 0</th>\n",
       "      <th>FEEDBACK_VALUE</th>\n",
       "      <th>YOUTUBE_AUTO_MOS</th>\n",
       "      <th>QoE_itu</th>\n",
       "      <th>Frequency %</th>\n",
       "      <th>MoS_Feedback</th>\n",
       "    </tr>\n",
       "  </thead>\n",
       "  <tbody>\n",
       "    <tr>\n",
       "      <th>0</th>\n",
       "      <td>1.0</td>\n",
       "      <td>280</td>\n",
       "      <td>280</td>\n",
       "      <td>280</td>\n",
       "      <td>280</td>\n",
       "      <td>0.196216</td>\n",
       "      <td>4</td>\n",
       "    </tr>\n",
       "    <tr>\n",
       "      <th>1</th>\n",
       "      <td>2.0</td>\n",
       "      <td>312</td>\n",
       "      <td>312</td>\n",
       "      <td>312</td>\n",
       "      <td>312</td>\n",
       "      <td>0.218641</td>\n",
       "      <td>4</td>\n",
       "    </tr>\n",
       "    <tr>\n",
       "      <th>2</th>\n",
       "      <td>3.0</td>\n",
       "      <td>377</td>\n",
       "      <td>377</td>\n",
       "      <td>377</td>\n",
       "      <td>377</td>\n",
       "      <td>0.264191</td>\n",
       "      <td>4</td>\n",
       "    </tr>\n",
       "    <tr>\n",
       "      <th>3</th>\n",
       "      <td>4.0</td>\n",
       "      <td>458</td>\n",
       "      <td>458</td>\n",
       "      <td>458</td>\n",
       "      <td>458</td>\n",
       "      <td>0.320953</td>\n",
       "      <td>4</td>\n",
       "    </tr>\n",
       "  </tbody>\n",
       "</table>\n",
       "</div>"
      ],
      "text/plain": [
       "   itu_QoE_Class  Unnamed: 0  FEEDBACK_VALUE  YOUTUBE_AUTO_MOS  QoE_itu  \\\n",
       "0            1.0         280             280               280      280   \n",
       "1            2.0         312             312               312      312   \n",
       "2            3.0         377             377               377      377   \n",
       "3            4.0         458             458               458      458   \n",
       "\n",
       "   Frequency % MoS_Feedback  \n",
       "0     0.196216            4  \n",
       "1     0.218641            4  \n",
       "2     0.264191            4  \n",
       "3     0.320953            4  "
      ]
     },
     "metadata": {},
     "output_type": "display_data"
    }
   ],
   "source": [
    "# FB 1\n",
    "mos_feedback = 1\n",
    "df_user_fb_1 = copy.deepcopy(data[data['FEEDBACK_VALUE'] == mos_feedback])\n",
    "groupby_itu_cl_1 = df_user_fb_1.groupby(['itu_QoE_Class']).count().reset_index()\n",
    "groupby_itu_cl_1['Frequency %'] = groupby_itu_cl_1['FEEDBACK_VALUE'] / np.sum(groupby_itu_cl_1['FEEDBACK_VALUE'].values)\n",
    "groupby_itu_cl_1['MoS_Feedback'] = str(1)\n",
    "\n",
    "\n",
    "display()\n",
    "display(np.sum(groupby_itu_cl_1['Frequency %'].values))\n",
    "display(groupby_itu_cl_1['Frequency %'].values)\n",
    "display(groupby_itu_cl_1)\n",
    "\n",
    "# FB 2\n",
    "mos_feedback = 2\n",
    "df_user_fb_2 = copy.deepcopy(data[data['FEEDBACK_VALUE'] == mos_feedback])\n",
    "groupby_itu_cl_2 = df_user_fb_2.groupby(['itu_QoE_Class']).count().reset_index()\n",
    "groupby_itu_cl_2['Frequency %'] = groupby_itu_cl_2['FEEDBACK_VALUE'] / np.sum(groupby_itu_cl_2['FEEDBACK_VALUE'])\n",
    "groupby_itu_cl_2['MoS_Feedback'] = str(2)\n",
    "\n",
    "display(np.sum(groupby_itu_cl_2['FEEDBACK_VALUE'].values))\n",
    "display(np.sum(groupby_itu_cl_2['Frequency %'].values))\n",
    "display(np.sum(groupby_itu_cl_2['Frequency %'].values))\n",
    "display(groupby_itu_cl_2)\n",
    "# FB 3\n",
    "mos_feedback = 3\n",
    "# groupby_itu_cl_3 = copy.deepcopy(data[data['FEEDBACK_VALUE'] == mos_feedback])\n",
    "df_user_fb_3 = copy.deepcopy(data[data['FEEDBACK_VALUE'] == mos_feedback])\n",
    "groupby_itu_cl_3 = df_user_fb_3.groupby(['itu_QoE_Class']).count().reset_index()\n",
    "groupby_itu_cl_3['Frequency %'] = groupby_itu_cl_3['FEEDBACK_VALUE'] / np.sum(groupby_itu_cl_3['FEEDBACK_VALUE'])\n",
    "groupby_itu_cl_3['MoS_Feedback'] = str(3)\n",
    "\n",
    "display(np.sum(groupby_itu_cl_3['FEEDBACK_VALUE'].values))\n",
    "display(groupby_itu_cl_3)\n",
    "\n",
    "# FB 4\n",
    "mos_feedback = 4\n",
    "df_user_fb_4 = copy.deepcopy(data[data['FEEDBACK_VALUE'] == mos_feedback])\n",
    "groupby_itu_cl_4 = df_user_fb_4.groupby(['itu_QoE_Class']).count().reset_index()\n",
    "groupby_itu_cl_4['Frequency %'] = groupby_itu_cl_4['FEEDBACK_VALUE'] / np.sum(groupby_itu_cl_4['FEEDBACK_VALUE'])\n",
    "groupby_itu_cl_4['MoS_Feedback'] = str(4)\n",
    "\n",
    "display(np.sum(groupby_itu_cl_4['FEEDBACK_VALUE'].values))\n",
    "display(groupby_itu_cl_4)\n",
    "\n",
    "# Q1 = col_qoe_itu.quantile(.25)\n",
    "# Q3_2 = col_qoe_itu.quantile(.75)\n",
    "# print('Max: %.5f Min: %.5f Median: %.5f Mean_2: %.5f Q1: %.5f Q3_23: %.5f' %(maximum, minimum, median_2, mean_2, Q1, Q3_2))\n",
    "\n",
    "# FB 4\n",
    "# mos_feedback = 5\n",
    "# df_user_fb_5 = copy.deepcopy(data[data['FEEDBACK_VALUE'] == mos_feedback])\n",
    "# groupby_itu_cl_5 = df_user_fb_5.groupby(['itu_QoE_Class']).count().reset_index()\n",
    "# groupby_itu_cl_5['Frequency %'] = groupby_itu_cl_5['FEEDBACK_VALUE'] / np.sum(groupby_itu_cl_5['FEEDBACK_VALUE'])\n",
    "# groupby_itu_cl_5['MoS_Feedback'] = str(5)\n",
    "\n",
    "# display(np.sum(groupby_itu_cl_5['FEEDBACK_VALUE'].values))\n",
    "# display(groupby_itu_cl_5)"
   ]
  },
  {
   "cell_type": "code",
   "execution_count": 74,
   "metadata": {
    "colab": {
     "base_uri": "https://localhost:8080/",
     "height": 238
    },
    "colab_type": "code",
    "id": "oscyWwL1qZgx",
    "outputId": "a8bab536-63ee-4ec4-94ae-58c1ecc3d4d7"
   },
   "outputs": [
    {
     "name": "stdout",
     "output_type": "stream",
     "text": [
      "sum all:  2090\n"
     ]
    }
   ],
   "source": [
    "sum1 = np.sum(groupby_itu_cl_1['FEEDBACK_VALUE'].values)\n",
    "sum2 = np.sum(groupby_itu_cl_2['FEEDBACK_VALUE'].values)\n",
    "sum3 = np.sum(groupby_itu_cl_3['FEEDBACK_VALUE'].values)\n",
    "sum4 = np.sum(groupby_itu_cl_4['FEEDBACK_VALUE'].values)\n",
    "#sum5 = np.sum(groupby_itu_cl_5['FEEDBACK_VALUE'].values)\n",
    "sum5 = 0\n",
    "\n",
    "print('sum all: ', sum1 + sum2 + sum3 + sum4 + sum5)"
   ]
  },
  {
   "cell_type": "markdown",
   "metadata": {},
   "source": [
    "### User Feedback 4 and 5"
   ]
  },
  {
   "cell_type": "code",
   "execution_count": 75,
   "metadata": {},
   "outputs": [
    {
     "data": {
      "text/plain": [
       "'MoS_1'"
      ]
     },
     "metadata": {},
     "output_type": "display_data"
    }
   ],
   "source": [
    "def _convert_class_str(X_target):\n",
    "    \"\"\" Convert string to float\n",
    "    \"\"\"\n",
    "    return 'MoS_' + str(X_target)\n",
    "\n",
    "display(_convert_class_str(1))"
   ]
  },
  {
   "cell_type": "code",
   "execution_count": 76,
   "metadata": {},
   "outputs": [
    {
     "data": {
      "text/html": [
       "<div>\n",
       "<style scoped>\n",
       "    .dataframe tbody tr th:only-of-type {\n",
       "        vertical-align: middle;\n",
       "    }\n",
       "\n",
       "    .dataframe tbody tr th {\n",
       "        vertical-align: top;\n",
       "    }\n",
       "\n",
       "    .dataframe thead th {\n",
       "        text-align: right;\n",
       "    }\n",
       "</style>\n",
       "<table border=\"1\" class=\"dataframe\">\n",
       "  <thead>\n",
       "    <tr style=\"text-align: right;\">\n",
       "      <th></th>\n",
       "      <th>itu_QoE_Class</th>\n",
       "      <th>Unnamed: 0</th>\n",
       "      <th>FEEDBACK_VALUE</th>\n",
       "      <th>YOUTUBE_AUTO_MOS</th>\n",
       "      <th>QoE_itu</th>\n",
       "      <th>Frequency %</th>\n",
       "      <th>MoS_Feedback</th>\n",
       "    </tr>\n",
       "  </thead>\n",
       "  <tbody>\n",
       "    <tr>\n",
       "      <th>0</th>\n",
       "      <td>1.0</td>\n",
       "      <td>142</td>\n",
       "      <td>142</td>\n",
       "      <td>142</td>\n",
       "      <td>142</td>\n",
       "      <td>0.518248</td>\n",
       "      <td>1</td>\n",
       "    </tr>\n",
       "    <tr>\n",
       "      <th>1</th>\n",
       "      <td>2.0</td>\n",
       "      <td>68</td>\n",
       "      <td>68</td>\n",
       "      <td>68</td>\n",
       "      <td>68</td>\n",
       "      <td>0.248175</td>\n",
       "      <td>1</td>\n",
       "    </tr>\n",
       "    <tr>\n",
       "      <th>2</th>\n",
       "      <td>3.0</td>\n",
       "      <td>41</td>\n",
       "      <td>41</td>\n",
       "      <td>41</td>\n",
       "      <td>41</td>\n",
       "      <td>0.149635</td>\n",
       "      <td>1</td>\n",
       "    </tr>\n",
       "    <tr>\n",
       "      <th>3</th>\n",
       "      <td>4.0</td>\n",
       "      <td>23</td>\n",
       "      <td>23</td>\n",
       "      <td>23</td>\n",
       "      <td>23</td>\n",
       "      <td>0.083942</td>\n",
       "      <td>1</td>\n",
       "    </tr>\n",
       "    <tr>\n",
       "      <th>0</th>\n",
       "      <td>1.0</td>\n",
       "      <td>36</td>\n",
       "      <td>36</td>\n",
       "      <td>36</td>\n",
       "      <td>36</td>\n",
       "      <td>0.223602</td>\n",
       "      <td>2</td>\n",
       "    </tr>\n",
       "  </tbody>\n",
       "</table>\n",
       "</div>"
      ],
      "text/plain": [
       "   itu_QoE_Class  Unnamed: 0  FEEDBACK_VALUE  YOUTUBE_AUTO_MOS  QoE_itu  \\\n",
       "0            1.0         142             142               142      142   \n",
       "1            2.0          68              68                68       68   \n",
       "2            3.0          41              41                41       41   \n",
       "3            4.0          23              23                23       23   \n",
       "0            1.0          36              36                36       36   \n",
       "\n",
       "   Frequency % MoS_Feedback  \n",
       "0     0.518248            1  \n",
       "1     0.248175            1  \n",
       "2     0.149635            1  \n",
       "3     0.083942            1  \n",
       "0     0.223602            2  "
      ]
     },
     "metadata": {},
     "output_type": "display_data"
    }
   ],
   "source": [
    "# df_itus = []\n",
    "# for i in np.arange(1, 6, 1):\n",
    "#     df_itus.append(pd.DataFrame('groupby_itu_cl_' + str(i)))\n",
    "    \n",
    "# print(df_itus)\n",
    "\n",
    "#df_itus = [groupby_itu_cl_1, groupby_itu_cl_2, groupby_itu_cl_3, groupby_itu_cl_4, groupby_itu_cl_5]\n",
    "df_itus = [groupby_itu_cl_1, groupby_itu_cl_2, groupby_itu_cl_3, groupby_itu_cl_4]\n",
    "df_itu_qoe_class = pd.concat(df_itus)\n",
    "display(df_itu_qoe_class.head(5))\n",
    "\n",
    "# Convert MoS to string\n",
    "df_itu_qoe_class['MoS_Feedback_Class'] = df_itu_qoe_class['MoS_Feedback'].apply(lambda x: _convert_class_str(x))\n",
    "\n",
    "# Round Freq to 2 decimals\n",
    "df_itu_qoe_class['Frequency_Round %'] = np.round(df_itu_qoe_class['Frequency %'], 2)\n",
    "\n",
    "\n",
    "#display(df_itu_qoe_class)\n",
    "\n",
    "# Pivot DF\n",
    "df_MoS_Feedback_IUT_QoE_Class = pd.pivot_table(df_itu_qoe_class, values='Frequency_Round %', columns=['itu_QoE_Class'], index=['MoS_Feedback_Class'])\n",
    "\n",
    "\n",
    "#df_MoS_Feedback_IUT_QoE_Class['5'] = float(\"{0:.6f}\".format(0.0))\n",
    "\n",
    "#display(df_MoS_Feedback_IUT_QoE_Class)"
   ]
  },
  {
   "cell_type": "code",
   "execution_count": 77,
   "metadata": {},
   "outputs": [],
   "source": [
    "#df_MoS_Feedback_IUT_QoE_Class.to_csv('Dataset/MoS_Feedback_IUT_QoE_Class_Group4-5.csv')"
   ]
  },
  {
   "cell_type": "code",
   "execution_count": 78,
   "metadata": {},
   "outputs": [
    {
     "data": {
      "image/png": "[encoded data removed]",
      "text/plain": [
       "<Figure size 648x432 with 2 Axes>"
      ]
     },
     "metadata": {
      "needs_background": "light"
     },
     "output_type": "display_data"
    }
   ],
   "source": [
    "import matplotlib.pyplot as plt\n",
    "import seaborn as sns\n",
    "%matplotlib inline\n",
    "\n",
    "# plot heatmap\n",
    "plt.figure(figsize=(9,6))\n",
    "ax = sns.heatmap(df_MoS_Feedback_IUT_QoE_Class, annot=True, linewidths=.5, cmap='Blues')\n",
    "\n",
    "# turn the axis label\n",
    "for item in ax.get_yticklabels():\n",
    "    item.set_rotation(0)\n",
    "\n",
    "for item in ax.get_xticklabels():\n",
    "    item.set_rotation(0)\n",
    "\n",
    "plt.show()"
   ]
  },
  {
   "cell_type": "code",
   "execution_count": null,
   "metadata": {},
   "outputs": [],
   "source": []
  }
 ],
 "metadata": {
  "colab": {
   "collapsed_sections": [],
   "name": "itu_rd_reg_gridsearch.ipynb",
   "provenance": []
  },
  "kernelspec": {
   "display_name": "Python 3",
   "language": "python",
   "name": "python3"
  },
  "language_info": {
   "codemirror_mode": {
    "name": "ipython",
    "version": 3
   },
   "file_extension": ".py",
   "mimetype": "text/x-python",
   "name": "python",
   "nbconvert_exporter": "python",
   "pygments_lexer": "ipython3",
   "version": "3.7.4"
  }
 },
 "nbformat": 4,
 "nbformat_minor": 4
}
