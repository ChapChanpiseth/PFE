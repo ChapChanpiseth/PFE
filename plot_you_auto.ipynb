{
 "cells": [
  {
   "cell_type": "code",
   "execution_count": 32,
   "metadata": {},
   "outputs": [
    {
     "name": "stdout",
     "output_type": "stream",
     "text": [
      "    m_1   m_2   m_3   m_4   m_5\n",
      "1  0.41  0.14  0.08  0.11  0.10\n",
      "2  0.03  0.05  0.00  0.00  0.00\n",
      "3  0.44  0.66  0.74  0.65  0.30\n",
      "4  0.00  0.00  0.00  0.00  0.00\n",
      "5  0.11  0.15  0.19  0.24  0.61\n",
      "yticks[::-1] [0 1 2 3 4 5]\n",
      "xticks : ['m_1' 'm_2' 'm_3' 'm_4' 'm_5']\n"
     ]
    },
    {
     "name": "stderr",
     "output_type": "stream",
     "text": [
      "/Volumes/D/Application/Anoconda/anaconda3/lib/python3.7/site-packages/ipykernel_launcher.py:34: UserWarning: Attempting to set identical bottom == top == 0.5 results in singular transformations; automatically expanding.\n"
     ]
    },
    {
     "data": {
      "image/png": "[encoded data removed]",
      "text/plain": [
       "<Figure size 648x648 with 2 Axes>"
      ]
     },
     "metadata": {
      "needs_background": "light"
     },
     "output_type": "display_data"
    }
   ],
   "source": [
    "import pandas as pd\n",
    "import numpy as np\n",
    "import matplotlib.ticker as ticker\n",
    "import matplotlib.cm as cm\n",
    "import matplotlib as mpl\n",
    "import matplotlib.pyplot as plt\n",
    "import math\n",
    "%matplotlib inline\n",
    "\n",
    "import seaborn as sns\n",
    "\n",
    "filename = 'MOS_USERFEEDBACK_YOUTUBEAUTO_GROUPBY.csv'\n",
    "df_pivot = pd.read_csv(filename)\n",
    "# Drop columns: index and idx,\n",
    "#df_pivot = df_pivot.drop(['idx' , 'FEEDBACK_VALUE', 'index'] , axis='columns'),\n",
    "df_pivot = df_pivot.drop(['YOUTUBE_AUTO_MOS'] , axis='columns')\n",
    "df_pivot = df_pivot.set_index(pd.Index(['1', '2', '3', '4', '5']))\n",
    "\n",
    "print(df_pivot)\n",
    "\n",
    "\n",
    "#fig = plt.figure(figsize=(12,9))\n",
    "fig, axis = plt.subplots()\n",
    "fig.set_size_inches(9, 9)\n",
    "yticks = np.arange(df_pivot.shape[0] + 1)\n",
    "xticks = np.arange(1, df_pivot.shape[1] + 1)\n",
    "xticks = df_pivot.columns.values\n",
    "print('yticks[::-1]', np.sort(yticks[::-1]))\n",
    "#r = sns.heatmap(df_pivot, xticklabels=xticks, yticklabels=yticks[::-1], cmap='Blues', linewidths=0.5, square=True, vmin=0, vmax=.74, annot=True, center= 0)\n",
    "r = sns.heatmap(df_pivot, xticklabels=xticks, yticklabels=yticks, cmap='Blues', linewidths=0.5, square=True, vmin=0, vmax=.74, annot=True, center= 0)\n",
    "#r = sns.heatmap(df_pivot, yticklabels=yticks[::-1], cmap='Blues', linewidths=0.0, square=True, vmin=0, vmax=1, annot=True)\n",
    "r.set_title(\"User Feedback MOS vs Youtube Auto MOS\")\n",
    "#axis.grid(True)\n",
    "axis.set_ylim(0.5)\n",
    "row_labels = list(range(1,6))\n",
    "#axis.set_yticklabels(row_labels),\n",
    "#print(df_pivot.shape[0]),\n",
    "#print(np.arange(1, df_pivot.shape[0] + 1)),\n",
    "#axis.set_yticks(np.arange(1, df_pivot.shape[0] + 1)),\n",
    "\n",
    "#axis.invert_yaxis(),\n",
    "column_labels = list(range(1,6))\n",
    "row_labels = list(range(1,6))\n",
    "\n",
    "# for tick in axis.xaxis.get_minor_ticks():\n",
    "#     #tick.tick1line.set_markersize(0),\n",
    "#     #tick.tick2line.set_markersize(0),\n",
    "#     tick.label1.set_horizontalalignment('center')\n",
    "    \n",
    "#axis.set_xticklabels(column_labels),\n",
    "\n",
    "print('xticks :', xticks)\n",
    "#axis.set_xticks(xticks*axis.get_xlim()[1]/(2*math.pi))\n",
    "#axis.set_yticks(np.arange(df_pivot.shape[0]+1.5))\n",
    "#axis.set_xticks(np.arange(df_pivot.shape[1]))\n",
    "\n",
    "#yticks2 = np.arange(1, df_pivot.shape[0] + 1)\n",
    "#print('ytick :', axis.get_ylim()[1])\n",
    "axis.set_yticks(yticks*axis.get_ylim()[1]*2)\n",
    "#axis.set_yticks(['m_1', 'm_2', 'm_3', 'm_4', 'm_5'])\n",
    "\n",
    "\n",
    "\n",
    "fig.savefig('output.png')\n",
    "#plt.show()"
   ]
  },
  {
   "cell_type": "code",
   "execution_count": null,
   "metadata": {},
   "outputs": [],
   "source": []
  },
  {
   "cell_type": "code",
   "execution_count": null,
   "metadata": {},
   "outputs": [],
   "source": []
  }
 ],
 "metadata": {
  "kernelspec": {
   "display_name": "Python 3",
   "language": "python",
   "name": "python3"
  },
  "language_info": {
   "codemirror_mode": {
    "name": "ipython",
    "version": 3
   },
   "file_extension": ".py",
   "mimetype": "text/x-python",
   "name": "python",
   "nbconvert_exporter": "python",
   "pygments_lexer": "ipython3",
   "version": "3.7.4"
  }
 },
 "nbformat": 4,
 "nbformat_minor": 2
}
