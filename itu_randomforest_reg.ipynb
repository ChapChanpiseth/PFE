{
 "cells": [
  {
   "cell_type": "code",
   "execution_count": 18,
   "metadata": {},
   "outputs": [],
   "source": [
    "%matplotlib inline\n",
    "import pandas as pd\n",
    "import numpy as np\n",
    "\n",
    "\n",
    "from sklearn.model_selection import train_test_split\n",
    "from sklearn.metrics import accuracy_score"
   ]
  },
  {
   "cell_type": "code",
   "execution_count": 19,
   "metadata": {},
   "outputs": [
    {
     "name": "stdout",
     "output_type": "stream",
     "text": [
      "['outbandQoS_DL_TP (kbps)' 'outbandQoS_UL_TP (kbps)' 'outbandQoS_RTT (ms)'\n",
      " 'outbandQoS_RTT_STD (ms)' 'outbandQoS_LOSS (ratio)'\n",
      " 'QoE_ITU_JT_046_VP9_1280x780']\n",
      "X:  [[2.21530127e+03 1.05268433e+02 5.54525805e+00 3.65501880e-03]\n",
      " [5.49837451e+03 1.38147998e+03 4.67492142e+01 3.75949960e-03]\n",
      " [1.04619312e+03 9.26093521e+01 2.83280048e+01 2.02680659e-02]\n",
      " [2.08757959e+03 6.56152466e+02 4.22402802e+01 1.31945405e-02]\n",
      " [9.26885681e+02 4.39348297e+02 9.77033997e+01 8.94861670e-03]]\n"
     ]
    }
   ],
   "source": [
    "data = pd.read_csv(r\"/Volumes/D/py-workspace/PFE/dataset/Input/outband_QoS_ITU-QoE.csv\", nrows=20000)\n",
    "#data = pd.read_csv(r\"/Volumes/D/py-workspace/PFE/dataset/Input/outband_QoS_ITU-QoE.csv\")\n",
    "data = data.dropna()\n",
    "\n",
    "print(data.columns.values)\n",
    "# Map Continuous target to class\n",
    "# # Import numpy, generate the feature matrix and the output y\n",
    "X = data[['outbandQoS_DL_TP (kbps)', 'outbandQoS_UL_TP (kbps)', 'outbandQoS_RTT (ms)', 'outbandQoS_LOSS (ratio)']].values\n",
    "y = data[['QoE_ITU_JT_046_VP9_1280x780']].values\n",
    "\n",
    "# Print the first row\n",
    "print(\"X: \", X[0:5, :])"
   ]
  },
  {
   "cell_type": "code",
   "execution_count": 20,
   "metadata": {},
   "outputs": [
    {
     "data": {
      "text/plain": [
       "array([-0.33749783, -0.33404952, -0.32520722, -0.33489578, -0.33121301,\n",
       "       -0.33966687, -0.32596874, -0.32584136, -0.32636478, -0.3359489 ])"
      ]
     },
     "metadata": {},
     "output_type": "display_data"
    }
   ],
   "source": [
    "from sklearn.model_selection import train_test_split\n",
    "from sklearn.metrics import accuracy_score\n",
    "from sklearn.model_selection import cross_val_predict, cross_val_score, GridSearchCV\n",
    "from sklearn.ensemble import RandomForestRegressor\n",
    "from sklearn.preprocessing import MinMaxScaler\n",
    "\n",
    "def rfr_model(X, y):\n",
    "    # Perform Grid-Search\n",
    "    gsc = GridSearchCV(\n",
    "        estimator=RandomForestRegressor(),\n",
    "        param_grid={\n",
    "            'max_depth': range(3,7),\n",
    "            'n_estimators': (10, 50, 100, 1000),\n",
    "        },\n",
    "        cv=5, scoring='neg_mean_squared_error', verbose=0, n_jobs=-1)\n",
    "\n",
    "    y = np.ravel(y)\n",
    "    grid_result = gsc.fit(X, y)\n",
    "    \n",
    "    best_params = grid_result.best_params_\n",
    "\n",
    "    rfr = RandomForestRegressor(max_depth=best_params[\"max_depth\"], n_estimators=best_params[\"n_estimators\"], random_state=False, verbose=False)\n",
    "    # Perform K-Fold CV\n",
    "    scores = cross_val_score(rfr, X, y, cv=10, scoring='neg_mean_absolute_error')\n",
    "    #predictions = cross_val_predict(rfr, X, y, cv=10)\n",
    "    \n",
    "    #scores = None\n",
    "    predictions = None\n",
    "    return scores, predictions\n",
    "\n",
    "#predictions = cross_val_predict(rfr_model, X, y, cv=10)\n",
    "\n",
    "scores, predictions = rfr_model(X, y)\n",
    "\n",
    "display(scores)\n",
    "#display(predictions)\n",
    "\n",
    "# df1 = pd.DataFrame(y) \n",
    "# df = pd.DataFrame(predictions)\n",
    "# df1['pred'] = df.iloc[:,0]\n",
    "\n",
    "# filename = 'itu_rf_reg_pred.csv'\n",
    "# df1.to_csv(filename)"
   ]
  },
  {
   "cell_type": "code",
   "execution_count": null,
   "metadata": {},
   "outputs": [],
   "source": []
  },
  {
   "cell_type": "code",
   "execution_count": null,
   "metadata": {},
   "outputs": [],
   "source": []
  }
 ],
 "metadata": {
  "kernelspec": {
   "display_name": "Python 3",
   "language": "python",
   "name": "python3"
  },
  "language_info": {
   "codemirror_mode": {
    "name": "ipython",
    "version": 3
   },
   "file_extension": ".py",
   "mimetype": "text/x-python",
   "name": "python",
   "nbconvert_exporter": "python",
   "pygments_lexer": "ipython3",
   "version": "3.7.4"
  }
 },
 "nbformat": 4,
 "nbformat_minor": 2
}
