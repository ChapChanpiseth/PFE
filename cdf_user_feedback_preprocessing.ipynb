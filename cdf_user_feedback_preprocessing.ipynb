{
 "cells": [
  {
   "cell_type": "markdown",
   "metadata": {
    "colab_type": "text",
    "id": "2JT8_-IInr2D"
   },
   "source": [
    "### User Feedback Preprocessing"
   ]
  },
  {
   "cell_type": "code",
   "execution_count": 62,
   "metadata": {
    "colab": {
     "base_uri": "https://localhost:8080/",
     "height": 34
    },
    "colab_type": "code",
    "id": "S-IC2HIlnt1y",
    "outputId": "cb5ead1e-66d7-4120-ead5-bf92a0bbc78c",
    "scrolled": true
   },
   "outputs": [
    {
     "data": {
      "text/plain": [
       "(4236, 32)"
      ]
     },
     "metadata": {},
     "output_type": "display_data"
    }
   ],
   "source": [
    "import pandas as pd\n",
    "import numpy as np\n",
    "\n",
    "import copy\n",
    "\n",
    "\n",
    "data = pd.read_csv('Dataset/CSV_USER_FEEDBACK_Prepro_2019Dec26_preprocessing.csv')\n",
    "display(data.shape)\n",
    "#display(data.head(5))"
   ]
  },
  {
   "cell_type": "code",
   "execution_count": 63,
   "metadata": {},
   "outputs": [
    {
     "data": {
      "text/plain": [
       "(2448, 32)"
      ]
     },
     "metadata": {},
     "output_type": "display_data"
    }
   ],
   "source": [
    "data = data.dropna()\n",
    "display(data.shape)"
   ]
  },
  {
   "cell_type": "code",
   "execution_count": 64,
   "metadata": {},
   "outputs": [],
   "source": [
    "# Save output of prepro to csv file\n",
    "data.to_csv('temp_prepro.csv')"
   ]
  },
  {
   "cell_type": "markdown",
   "metadata": {},
   "source": [
    "### CDF on only preproceseed dataset"
   ]
  },
  {
   "cell_type": "code",
   "execution_count": 65,
   "metadata": {},
   "outputs": [
    {
     "data": {
      "text/html": [
       "<div>\n",
       "<style scoped>\n",
       "    .dataframe tbody tr th:only-of-type {\n",
       "        vertical-align: middle;\n",
       "    }\n",
       "\n",
       "    .dataframe tbody tr th {\n",
       "        vertical-align: top;\n",
       "    }\n",
       "\n",
       "    .dataframe thead th {\n",
       "        text-align: right;\n",
       "    }\n",
       "</style>\n",
       "<table border=\"1\" class=\"dataframe\">\n",
       "  <thead>\n",
       "    <tr style=\"text-align: right;\">\n",
       "      <th></th>\n",
       "      <th>USER_ID</th>\n",
       "    </tr>\n",
       "  </thead>\n",
       "  <tbody>\n",
       "    <tr>\n",
       "      <th>0</th>\n",
       "      <td>b058f43c-e2c3-4105-9c6a-d1bd49c3d5f8</td>\n",
       "    </tr>\n",
       "    <tr>\n",
       "      <th>1</th>\n",
       "      <td>b058f43c-e2c3-4105-9c6a-d1bd49c3d5f8</td>\n",
       "    </tr>\n",
       "    <tr>\n",
       "      <th>2</th>\n",
       "      <td>b058f43c-e2c3-4105-9c6a-d1bd49c3d5f8</td>\n",
       "    </tr>\n",
       "    <tr>\n",
       "      <th>3</th>\n",
       "      <td>77a801f9-152d-4aeb-aa04-cc3c67b974e6</td>\n",
       "    </tr>\n",
       "    <tr>\n",
       "      <th>4</th>\n",
       "      <td>967806a3-f2c5-4161-a6a5-f6dd8f1403ca</td>\n",
       "    </tr>\n",
       "  </tbody>\n",
       "</table>\n",
       "</div>"
      ],
      "text/plain": [
       "                                USER_ID\n",
       "0  b058f43c-e2c3-4105-9c6a-d1bd49c3d5f8\n",
       "1  b058f43c-e2c3-4105-9c6a-d1bd49c3d5f8\n",
       "2  b058f43c-e2c3-4105-9c6a-d1bd49c3d5f8\n",
       "3  77a801f9-152d-4aeb-aa04-cc3c67b974e6\n",
       "4  967806a3-f2c5-4161-a6a5-f6dd8f1403ca"
      ]
     },
     "metadata": {},
     "output_type": "display_data"
    },
    {
     "data": {
      "text/plain": [
       "(2900, 1)"
      ]
     },
     "metadata": {},
     "output_type": "display_data"
    }
   ],
   "source": [
    "import pandas as pd\n",
    "import numpy as np\n",
    "\n",
    "_df = pd.read_csv('Dataset/CSV_UFB_Prepro_200801_CDF.csv')\n",
    "display(_df.head(5))\n",
    "display(_df.shape)"
   ]
  },
  {
   "cell_type": "code",
   "execution_count": 66,
   "metadata": {},
   "outputs": [
    {
     "data": {
      "text/html": [
       "<div>\n",
       "<style scoped>\n",
       "    .dataframe tbody tr th:only-of-type {\n",
       "        vertical-align: middle;\n",
       "    }\n",
       "\n",
       "    .dataframe tbody tr th {\n",
       "        vertical-align: top;\n",
       "    }\n",
       "\n",
       "    .dataframe thead th {\n",
       "        text-align: right;\n",
       "    }\n",
       "</style>\n",
       "<table border=\"1\" class=\"dataframe\">\n",
       "  <thead>\n",
       "    <tr style=\"text-align: right;\">\n",
       "      <th></th>\n",
       "      <th>USER_ID</th>\n",
       "      <th>FREQ</th>\n",
       "    </tr>\n",
       "  </thead>\n",
       "  <tbody>\n",
       "    <tr>\n",
       "      <th>0</th>\n",
       "      <td>025e04b0-196a-4dd0-9a9a-33b6fb8f19fd</td>\n",
       "      <td>4</td>\n",
       "    </tr>\n",
       "    <tr>\n",
       "      <th>1</th>\n",
       "      <td>07d91f23-46c8-4e43-9faf-0c9706c1644e</td>\n",
       "      <td>2</td>\n",
       "    </tr>\n",
       "    <tr>\n",
       "      <th>2</th>\n",
       "      <td>12048bbc-56ba-4070-9e40-abf32e1023c6</td>\n",
       "      <td>2</td>\n",
       "    </tr>\n",
       "    <tr>\n",
       "      <th>3</th>\n",
       "      <td>12116e97-7d56-4d5c-bbfa-b14379ebceb0</td>\n",
       "      <td>1</td>\n",
       "    </tr>\n",
       "    <tr>\n",
       "      <th>4</th>\n",
       "      <td>1802d1ed-3967-45a2-a29b-a5a0125b0ae5</td>\n",
       "      <td>299</td>\n",
       "    </tr>\n",
       "    <tr>\n",
       "      <th>5</th>\n",
       "      <td>1ebec2b6-b0c1-443a-a6e2-04ec79497784</td>\n",
       "      <td>2</td>\n",
       "    </tr>\n",
       "    <tr>\n",
       "      <th>6</th>\n",
       "      <td>1faa8e22-706c-409a-a13e-866b1c565105</td>\n",
       "      <td>3</td>\n",
       "    </tr>\n",
       "    <tr>\n",
       "      <th>7</th>\n",
       "      <td>25be5348-d4b9-40e0-8271-bdd88dc6bde1</td>\n",
       "      <td>248</td>\n",
       "    </tr>\n",
       "    <tr>\n",
       "      <th>8</th>\n",
       "      <td>26085c71-3a85-4ac0-8999-411dd70d478b</td>\n",
       "      <td>1</td>\n",
       "    </tr>\n",
       "    <tr>\n",
       "      <th>9</th>\n",
       "      <td>29e9f01b-1a8f-45d5-b16e-5725421c70ff</td>\n",
       "      <td>15</td>\n",
       "    </tr>\n",
       "  </tbody>\n",
       "</table>\n",
       "</div>"
      ],
      "text/plain": [
       "                                USER_ID  FREQ\n",
       "0  025e04b0-196a-4dd0-9a9a-33b6fb8f19fd     4\n",
       "1  07d91f23-46c8-4e43-9faf-0c9706c1644e     2\n",
       "2  12048bbc-56ba-4070-9e40-abf32e1023c6     2\n",
       "3  12116e97-7d56-4d5c-bbfa-b14379ebceb0     1\n",
       "4  1802d1ed-3967-45a2-a29b-a5a0125b0ae5   299\n",
       "5  1ebec2b6-b0c1-443a-a6e2-04ec79497784     2\n",
       "6  1faa8e22-706c-409a-a13e-866b1c565105     3\n",
       "7  25be5348-d4b9-40e0-8271-bdd88dc6bde1   248\n",
       "8  26085c71-3a85-4ac0-8999-411dd70d478b     1\n",
       "9  29e9f01b-1a8f-45d5-b16e-5725421c70ff    15"
      ]
     },
     "metadata": {},
     "output_type": "display_data"
    }
   ],
   "source": [
    "_df['FREQ'] = 1\n",
    "_groupby_df = _df.groupby(['USER_ID']).count().reset_index()\n",
    "\n",
    "display(_groupby_df.head(10))"
   ]
  },
  {
   "cell_type": "code",
   "execution_count": 67,
   "metadata": {},
   "outputs": [],
   "source": [
    "_groupby_df.to_csv('Dataset/CSV_UFB_Prepro_200801_CDF_GROUPBY.csv')"
   ]
  },
  {
   "cell_type": "markdown",
   "metadata": {},
   "source": [
    "#### Calculate CDF and Plot it out"
   ]
  },
  {
   "cell_type": "code",
   "execution_count": 68,
   "metadata": {},
   "outputs": [
    {
     "data": {
      "text/plain": [
       "<matplotlib.axes._subplots.AxesSubplot at 0x1a1f19d210>"
      ]
     },
     "execution_count": 68,
     "metadata": {},
     "output_type": "execute_result"
    },
    {
     "data": {
      "image/png": "[encoded data removed]",
      "text/plain": [
       "<Figure size 432x288 with 1 Axes>"
      ]
     },
     "metadata": {
      "needs_background": "light"
     },
     "output_type": "display_data"
    }
   ],
   "source": [
    "sorted_df = _groupby_df.copy()\n",
    "sorted_df['value'] = _groupby_df['FREQ']\n",
    "sorted_df['value'] = sorted_df['value'].sort_values()\n",
    "series = pd.Series(sorted_df['value'].sort_values(), name = 'value')\n",
    "cdf = series.value_counts().sort_index().cumsum()\n",
    "cdf.plot()"
   ]
  },
  {
   "cell_type": "code",
   "execution_count": 69,
   "metadata": {},
   "outputs": [
    {
     "data": {
      "image/png": "[encoded data removed]",
      "text/plain": [
       "<Figure size 864x432 with 1 Axes>"
      ]
     },
     "metadata": {
      "needs_background": "light"
     },
     "output_type": "display_data"
    }
   ],
   "source": [
    "import seaborn as sns\n",
    "import matplotlib.pyplot as plt\n",
    "import matplotlib.ticker as ticker\n",
    "%matplotlib inline \n",
    "\n",
    "plt.figure(figsize=(12, 6))\n",
    "\n",
    "ax = sns.kdeplot(series, cumulative=True, label=\"\")\n",
    "\n",
    "ax.yaxis.set_major_locator(ticker.MultipleLocator(0.1))\n",
    "ax.yaxis.set_major_formatter(ticker.ScalarFormatter())\n",
    "\n",
    "ax.xaxis.set_major_locator(ticker.MultipleLocator(30))\n",
    "ax.xaxis.set_major_formatter(ticker.ScalarFormatter())\n",
    "\n",
    "# Setting the X and Y Label\n",
    "ax.set_xlabel('\\n Number of User Feedback \\n', fontdict=None, labelpad=None, fontsize=13, fontweight='bold')\n",
    "ax.set_ylabel('CDF \\n', fontdict=None, labelpad=None, fontsize=13, fontweight='bold')\n",
    "#plt.xlabel('Number of User Feedback') \n",
    "#plt.ylabel('CDF')\n",
    "\n",
    "axis_x = np.arange(0, 30, 550)\n",
    "axes = ax.axes\n",
    "# axes[0,0].set_xlim(-100,1000)\n",
    "axes.set_xlim(0, 550)\n",
    "\n",
    "# turn the axis label\n",
    "for item in ax.get_xticklabels():\n",
    "    item.set_size(10)\n",
    "    item.set_weight(\"bold\")\n",
    "    item.set_rotation(0)\n",
    "    item.set_color('#20639B')\n",
    "    \n",
    "\n",
    "# Save Image\n",
    "plt.savefig('Dataset/Image/CDF_UFB_Prepro_Dataset.png')"
   ]
  },
  {
   "cell_type": "code",
   "execution_count": null,
   "metadata": {},
   "outputs": [],
   "source": []
  },
  {
   "cell_type": "markdown",
   "metadata": {},
   "source": [
    "### Plot CDF + cumulative histogram using Seaborn Python"
   ]
  },
  {
   "cell_type": "code",
   "execution_count": 18,
   "metadata": {},
   "outputs": [
    {
     "data": {
      "text/plain": [
       "(4236, 32)"
      ]
     },
     "metadata": {},
     "output_type": "display_data"
    },
    {
     "data": {
      "text/html": [
       "<div>\n",
       "<style scoped>\n",
       "    .dataframe tbody tr th:only-of-type {\n",
       "        vertical-align: middle;\n",
       "    }\n",
       "\n",
       "    .dataframe tbody tr th {\n",
       "        vertical-align: top;\n",
       "    }\n",
       "\n",
       "    .dataframe thead th {\n",
       "        text-align: right;\n",
       "    }\n",
       "</style>\n",
       "<table border=\"1\" class=\"dataframe\">\n",
       "  <thead>\n",
       "    <tr style=\"text-align: right;\">\n",
       "      <th></th>\n",
       "      <th>FEEDBACK_APP</th>\n",
       "      <th>FEEDBACK_VALUE</th>\n",
       "      <th>FEEDBACK_DATE</th>\n",
       "      <th>USER_ID</th>\n",
       "      <th>DATE</th>\n",
       "      <th>RTT</th>\n",
       "      <th>DOWNLOAD_LOSS_RATE</th>\n",
       "      <th>UPLOAD_LOSS_RATE</th>\n",
       "      <th>DOWNLOAD_JITTER</th>\n",
       "      <th>UPLOAD_JITTER</th>\n",
       "      <th>...</th>\n",
       "      <th>SIGNAL_STRENGTH_LEVEL(0)</th>\n",
       "      <th>IS_IN_AIRPLANE_MODE</th>\n",
       "      <th>IS_MOBILE_DATA_ENABLED</th>\n",
       "      <th>IS_ROAMING_DATA_ENABLED</th>\n",
       "      <th>IS_IN_NATIONAL_ROAMING</th>\n",
       "      <th>IS_IN_ROAMING</th>\n",
       "      <th>IS_WIFI_CONNECTED</th>\n",
       "      <th>SIGNAL_STRENGTH_RSSI__dBm(1)</th>\n",
       "      <th>SIGNAL_STRENGTH_LEVEL(1)</th>\n",
       "      <th>WIFI_SSID</th>\n",
       "    </tr>\n",
       "  </thead>\n",
       "  <tbody>\n",
       "    <tr>\n",
       "      <th>0</th>\n",
       "      <td>HANGOUTS___GENERAL___MOS</td>\n",
       "      <td>5</td>\n",
       "      <td>05:17.1</td>\n",
       "      <td>b058f43c-e2c3-4105-9c6a-d1bd49c3d5f8</td>\n",
       "      <td>05:09.3</td>\n",
       "      <td>1763210746</td>\n",
       "      <td>0.0</td>\n",
       "      <td>0.0</td>\n",
       "      <td>404856.44</td>\n",
       "      <td>975678.91</td>\n",
       "      <td>...</td>\n",
       "      <td>NaN</td>\n",
       "      <td>NaN</td>\n",
       "      <td>NaN</td>\n",
       "      <td>NaN</td>\n",
       "      <td>NaN</td>\n",
       "      <td>False</td>\n",
       "      <td>False</td>\n",
       "      <td>#NAME?</td>\n",
       "      <td>2.147484e+09</td>\n",
       "      <td>&lt;unknown ssid&gt;</td>\n",
       "    </tr>\n",
       "  </tbody>\n",
       "</table>\n",
       "<p>1 rows × 32 columns</p>\n",
       "</div>"
      ],
      "text/plain": [
       "               FEEDBACK_APP  FEEDBACK_VALUE FEEDBACK_DATE  \\\n",
       "0  HANGOUTS___GENERAL___MOS               5       05:17.1   \n",
       "\n",
       "                                USER_ID     DATE         RTT  \\\n",
       "0  b058f43c-e2c3-4105-9c6a-d1bd49c3d5f8  05:09.3  1763210746   \n",
       "\n",
       "   DOWNLOAD_LOSS_RATE  UPLOAD_LOSS_RATE  DOWNLOAD_JITTER  UPLOAD_JITTER  ...  \\\n",
       "0                 0.0               0.0        404856.44      975678.91  ...   \n",
       "\n",
       "   SIGNAL_STRENGTH_LEVEL(0)  IS_IN_AIRPLANE_MODE  IS_MOBILE_DATA_ENABLED  \\\n",
       "0                       NaN                  NaN                     NaN   \n",
       "\n",
       "   IS_ROAMING_DATA_ENABLED IS_IN_NATIONAL_ROAMING IS_IN_ROAMING  \\\n",
       "0                      NaN                    NaN         False   \n",
       "\n",
       "   IS_WIFI_CONNECTED  SIGNAL_STRENGTH_RSSI__dBm(1)  SIGNAL_STRENGTH_LEVEL(1)  \\\n",
       "0              False                        #NAME?              2.147484e+09   \n",
       "\n",
       "        WIFI_SSID  \n",
       "0  <unknown ssid>  \n",
       "\n",
       "[1 rows x 32 columns]"
      ]
     },
     "metadata": {},
     "output_type": "display_data"
    }
   ],
   "source": [
    "data_all = pd.read_csv('Dataset/CSV_USER_FEEDBACK_Prepro_2019Dec26_preprocessing.csv')\n",
    "display(data_all.shape)\n",
    "display(data_all.head(1))\n",
    "\n",
    "#kwargs = {'cumulative': True}\n",
    "#sns.distplot(series, hist_kws=kwargs, kde_kws=kwargs)"
   ]
  },
  {
   "cell_type": "code",
   "execution_count": 19,
   "metadata": {},
   "outputs": [],
   "source": [
    "data_all['FREQ'] = 1\n",
    "_groupby_all = data_all.groupby(['USER_ID']).count().reset_index()\n",
    "\n",
    "sorted_df = _groupby_all\n",
    "sorted_df['value'] = _groupby_all['FREQ']\n",
    "sorted_df['value'] = sorted_df['value'].sort_values()\n",
    "series_all = pd.Series(sorted_df['value'].sort_values(), name = 'value')"
   ]
  },
  {
   "cell_type": "code",
   "execution_count": 20,
   "metadata": {},
   "outputs": [
    {
     "data": {
      "image/png": "[encoded data removed]",
      "text/plain": [
       "<Figure size 864x432 with 1 Axes>"
      ]
     },
     "metadata": {
      "needs_background": "light"
     },
     "output_type": "display_data"
    }
   ],
   "source": [
    "import seaborn as sns\n",
    "import matplotlib.pyplot as plt\n",
    "import matplotlib.ticker as ticker\n",
    "%matplotlib inline \n",
    "\n",
    "plt.figure(figsize=(12, 6))\n",
    "\n",
    "ax = sns.kdeplot(series_all, cumulative=True, label=\"\")\n",
    "\n",
    "ax.yaxis.set_major_locator(ticker.MultipleLocator(0.1))\n",
    "ax.yaxis.set_major_formatter(ticker.ScalarFormatter())\n",
    "\n",
    "ax.xaxis.set_major_locator(ticker.MultipleLocator(30))\n",
    "ax.xaxis.set_major_formatter(ticker.ScalarFormatter())\n",
    "\n",
    "# Setting the X and Y Label\n",
    "ax.set_xlabel('\\n Number of User Feedback \\n', fontdict=None, labelpad=None, fontsize=13, fontweight='bold')\n",
    "ax.set_ylabel('CDF \\n', fontdict=None, labelpad=None, fontsize=13, fontweight='bold')\n",
    "#plt.xlabel('Number of User Feedback') \n",
    "#plt.ylabel('CDF')\n",
    "\n",
    "axis_x = np.arange(0, 30, 750)\n",
    "axes = ax.axes\n",
    "# axes[0,0].set_xlim(-100,1000)\n",
    "axes.set_xlim(0, 750)\n",
    "\n",
    "# turn the axis label\n",
    "for item in ax.get_xticklabels():\n",
    "    item.set_size(10)\n",
    "    item.set_weight(\"bold\")\n",
    "    item.set_rotation(0)\n",
    "    item.set_color('#20639B')"
   ]
  },
  {
   "cell_type": "markdown",
   "metadata": {},
   "source": [
    "### Filter By Number of comments less than 100"
   ]
  },
  {
   "cell_type": "code",
   "execution_count": 59,
   "metadata": {},
   "outputs": [],
   "source": [
    "data_all['FREQ'] = 1\n",
    "_groupby_filtered = data_all.groupby(['USER_ID']).count().reset_index()\n",
    "data_filtered = _groupby_filtered[(_groupby_filtered.loc[:, 'FREQ']  <= 100)]\n",
    "\n",
    "sorted_df = data_filtered.copy()\n",
    "sorted_df['value'] = data_filtered.loc[:, 'FREQ']\n",
    "sorted_df['value'] = sorted_df.loc[:, 'value'].sort_values()\n",
    "series_filtered = pd.Series(sorted_df.loc[:, 'value'], name = 'value')\n",
    "\n",
    "#display(series_filtered.tail(5))\n",
    "\n",
    "# sorted_df = _groupby_all\n",
    "# sorted_df['value'] = _groupby_all['FREQ']\n",
    "# sorted_df['value'] = sorted_df['value'].sort_values()\n",
    "# series_all = pd.Series(sorted_df['value'].sort_values(), name = 'value')"
   ]
  },
  {
   "cell_type": "code",
   "execution_count": 61,
   "metadata": {},
   "outputs": [
    {
     "data": {
      "image/png": "[encoded data removed]",
      "text/plain": [
       "<Figure size 864x432 with 1 Axes>"
      ]
     },
     "metadata": {
      "needs_background": "light"
     },
     "output_type": "display_data"
    }
   ],
   "source": [
    "import seaborn as sns\n",
    "import matplotlib.pyplot as plt\n",
    "import matplotlib.ticker as ticker\n",
    "%matplotlib inline \n",
    "\n",
    "plt.figure(figsize=(12, 6))\n",
    "\n",
    "ax = sns.kdeplot(series_filtered, cumulative=True, label=\"\")\n",
    "\n",
    "ax.yaxis.set_major_locator(ticker.MultipleLocator(0.1))\n",
    "ax.yaxis.set_major_formatter(ticker.ScalarFormatter())\n",
    "\n",
    "ax.xaxis.set_major_locator(ticker.MultipleLocator(10))\n",
    "ax.xaxis.set_major_formatter(ticker.ScalarFormatter())\n",
    "\n",
    "# Setting the X and Y Label\n",
    "ax.set_xlabel('\\n Number of User Feedback \\n', fontdict=None, labelpad=None, fontsize=13, fontweight='bold')\n",
    "ax.set_ylabel('CDF \\n', fontdict=None, labelpad=None, fontsize=13, fontweight='bold')\n",
    "#plt.xlabel('Number of User Feedback') \n",
    "#plt.ylabel('CDF')\n",
    "\n",
    "axis_x = np.arange(0, 30, 750)\n",
    "axes = ax.axes\n",
    "# axes[0,0].set_xlim(-100,1000)\n",
    "axes.set_xlim(0, 110)\n",
    "\n",
    "# turn the axis label\n",
    "for item in ax.get_xticklabels():\n",
    "    item.set_size(10)\n",
    "    item.set_weight(\"bold\")\n",
    "    item.set_rotation(0)\n",
    "    item.set_color('#20639B')"
   ]
  },
  {
   "cell_type": "code",
   "execution_count": null,
   "metadata": {},
   "outputs": [],
   "source": []
  },
  {
   "cell_type": "code",
   "execution_count": null,
   "metadata": {},
   "outputs": [],
   "source": []
  }
 ],
 "metadata": {
  "colab": {
   "collapsed_sections": [],
   "name": "itu_rd_reg_gridsearch.ipynb",
   "provenance": []
  },
  "kernelspec": {
   "display_name": "Python 3",
   "language": "python",
   "name": "python3"
  },
  "language_info": {
   "codemirror_mode": {
    "name": "ipython",
    "version": 3
   },
   "file_extension": ".py",
   "mimetype": "text/x-python",
   "name": "python",
   "nbconvert_exporter": "python",
   "pygments_lexer": "ipython3",
   "version": "3.7.4"
  }
 },
 "nbformat": 4,
 "nbformat_minor": 4
}
