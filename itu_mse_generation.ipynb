{
 "cells": [
  {
   "cell_type": "code",
   "execution_count": 13,
   "metadata": {},
   "outputs": [],
   "source": [
    "import os\n",
    "import pickle\n",
    "\n",
    "def load_model(file):\n",
    "    \"\"\"\n",
    "    Read .pickle file\n",
    "    \"\"\"\n",
    "    path_to_pickle = os.path.join(os.getcwd(), file)\n",
    "    try:\n",
    "        with open(path_to_pickle, 'rb') as handle:\n",
    "            model = pickle.load(handle)\n",
    "    except pickle.UnpicklingError as error:\n",
    "        raise Exception(error)\n",
    "    else:\n",
    "        return model\n",
    "\n",
    "def save_model(file, model):\n",
    "    \"\"\"\n",
    "    The pickle module implements binary protocols\n",
    "    for serializing and de-serializing a Python object structure.\n",
    "    \"\"\"\n",
    "    #path_to_pickle = os.path.join(os.getcwd(), file)\n",
    "    path_to_pickle = file\n",
    "    try:\n",
    "        #FileHelper.create_folder(FileHelper.get_folder_path(path_to_pickle))\n",
    "        with open(path_to_pickle, 'wb') as handle:\n",
    "            pickle.dump(model, handle, protocol=pickle.HIGHEST_PROTOCOL)\n",
    "    except pickle.PickleError as error:\n",
    "        raise Exception(error)\n",
    "    else:\n",
    "        return True\n",
    "    \n",
    "file = 'itu_model.pickle'\n",
    "modle = \"{'bootstrap': True, 'max_depth': 6, 'max_features': 2, 'min_samples_leaf': 4, 'min_samples_split': 3, 'n_estimators': 200}\"\n",
    "model = save_model(file, modle)"
   ]
  },
  {
   "cell_type": "code",
   "execution_count": 8,
   "metadata": {},
   "outputs": [
    {
     "data": {
      "text/plain": [
       "(20000, 6)"
      ]
     },
     "metadata": {},
     "output_type": "display_data"
    }
   ],
   "source": [
    "data = pd.read_csv(r\"/Volumes/D/py-workspace/PFE/dataset/Input/outband_QoS_ITU-QoE.csv\", nrows=20000)\n",
    "#data = pd.read_csv(r\"/Volumes/D/py-workspace/PFE/dataset/Input/outband_QoS_ITU-QoE.csv\")\n",
    "data = data.dropna()\n",
    "\n",
    "display(data.shape)\n",
    "\n",
    "data.to_csv('20000_outband_QoS_ITU-QoE.csv')\n",
    "\n",
    "# import numpy as np\n",
    "# import pandas as pd\n",
    "\n",
    "# y = np.array([-0.33749783, -0.33404952, -0.32520722, -0.33489578, -0.33121301,\n",
    "#        -0.33966687, -0.32596874, -0.32584136, -0.32636478, -0.3359489 ])\n",
    "\n",
    "# 1000_\n",
    "array([-0.3190114 , -0.36423656, -0.35432759, -0.43027544, -0.30940877,\n",
    "       -0.31271521, -0.33856421, -0.36408426, -0.40078015, -0.33609019])\n",
    "\n",
    "## Azure 20000\n",
    "array([-0.33749542, -0.33405209, -0.32520944, -0.33489759, -0.33121085,\n",
    "       -0.33966586, -0.32597416, -0.32584195, -0.32636342, -0.33594622])\n",
    "\n",
    "\n",
    "Records = 20000\n",
    "max-depth 6\n",
    "max-n_estimators 1000\n",
    "array([-0.33749542, -0.33405209, -0.32520944, -0.33489759, -0.33121085,\n",
    "       -0.33966586, -0.32597416, -0.32584195, -0.32636342, -0.33594622])\n",
    "\n",
    "# df1 = pd.DataFrame(y) \n",
    "# #df = pd.DataFrame(predictions)\n",
    "\n",
    "\n",
    "\n",
    "# display(df1)\n",
    "# df1.to_csv('itu_neg_mse.csv')"
   ]
  },
  {
   "cell_type": "code",
   "execution_count": null,
   "metadata": {},
   "outputs": [],
   "source": []
  }
 ],
 "metadata": {
  "kernelspec": {
   "display_name": "Python 3",
   "language": "python",
   "name": "python3"
  },
  "language_info": {
   "codemirror_mode": {
    "name": "ipython",
    "version": 3
   },
   "file_extension": ".py",
   "mimetype": "text/x-python",
   "name": "python",
   "nbconvert_exporter": "python",
   "pygments_lexer": "ipython3",
   "version": "3.7.4"
  }
 },
 "nbformat": 4,
 "nbformat_minor": 2
}
